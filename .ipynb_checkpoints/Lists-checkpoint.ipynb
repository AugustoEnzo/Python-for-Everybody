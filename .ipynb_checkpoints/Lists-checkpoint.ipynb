{
 "cells": [
  {
   "cell_type": "code",
   "execution_count": null,
   "id": "9771995f-8dc8-49ba-9e2c-f9708dfb6f3b",
   "metadata": {},
   "outputs": [],
   "source": [
    "a = [1, 2, 3]\n",
    "b = [4, 5, 6]\n",
    "c = a + b\n",
    "\n",
    "x = list()\n",
    "type(x)\n",
    "dir(x)"
   ]
  },
  {
   "cell_type": "code",
   "execution_count": null,
   "id": "6b3bed1d-9db2-4514-83d2-926a9e2cab50",
   "metadata": {},
   "outputs": [],
   "source": [
    "stuff = list()\n",
    "stuff.append('book')\n",
    "stuff.append(99)\n",
    "stuff.append('cookie')"
   ]
  },
  {
   "cell_type": "code",
   "execution_count": null,
   "id": "b10079b9-3e24-46ad-b9e6-2f8d6c9a13d4",
   "metadata": {},
   "outputs": [],
   "source": [
    "nums = [4, 2, 5, 3]\n",
    "nums.sort()\n",
    "print(len(nums))\n",
    "print(max(nums))\n",
    "print(min(nums))\n",
    "print(sum(nums))\n",
    "print(sum(nums)/len(nums))"
   ]
  },
  {
   "cell_type": "code",
   "execution_count": null,
   "id": "b97d5cfe-bd34-4b4b-bc63-9171e1eeefbc",
   "metadata": {},
   "outputs": [],
   "source": [
    "numlist = list()\n",
    "while True :\n",
    "    inp = input('Enter a number: ')\n",
    "    if inp == 'done' : break\n",
    "    value = float(inp)\n",
    "    numlist.append(value)\n",
    "average = sum(numlist) / len(numlist)\n",
    "print('Average:', average)"
   ]
  },
  {
   "cell_type": "code",
   "execution_count": null,
   "id": "027bd54a-04bb-487b-9c7b-93ac46ecc539",
   "metadata": {},
   "outputs": [],
   "source": [
    "abc = 'With three words'\n",
    "stuff = abc.split()\n",
    "print(len(stuff))"
   ]
  },
  {
   "cell_type": "code",
   "execution_count": null,
   "id": "c9dd6313-e23a-4108-beb9-3369ee87096b",
   "metadata": {},
   "outputs": [],
   "source": [
    "line = 'A lot                           of spaces'\n",
    "etc = line.split()"
   ]
  },
  {
   "cell_type": "code",
   "execution_count": null,
   "id": "ec292e0b-5c1f-4b70-8392-35b2b648c829",
   "metadata": {},
   "outputs": [],
   "source": [
    "line = 'first;second;third'\n",
    "thing = line.split(';')"
   ]
  },
  {
   "cell_type": "code",
   "execution_count": null,
   "id": "54619038-51ee-4e6e-88bb-daa148ff07d7",
   "metadata": {},
   "outputs": [],
   "source": [
    "fhand = open('mbox-short.txt')\n",
    "for line in fhand:\n",
    "    line = line.rstrip()\n",
    "    if not line.startswith('From '): continue\n",
    "    words = line.split()"
   ]
  },
  {
   "cell_type": "code",
   "execution_count": 2,
   "id": "65bb9745-0029-4842-b147-beae8c25fa77",
   "metadata": {},
   "outputs": [
    {
     "name": "stdout",
     "output_type": "stream",
     "text": [
      "uct.ac.za\n"
     ]
    }
   ],
   "source": [
    "line = 'From stephen.marquard@uct.ac.za Sat Jan 5 09:14:16 2008'\n",
    "words = line.split()\n",
    "email = words[1]\n",
    "domain = email.split('@')[1]\n",
    "print(domain)"
   ]
  }
 ],
 "metadata": {
  "kernelspec": {
   "display_name": "Python 3 (ipykernel)",
   "language": "python",
   "name": "python3"
  },
  "language_info": {
   "codemirror_mode": {
    "name": "ipython",
    "version": 3
   },
   "file_extension": ".py",
   "mimetype": "text/x-python",
   "name": "python",
   "nbconvert_exporter": "python",
   "pygments_lexer": "ipython3",
   "version": "3.9.12"
  }
 },
 "nbformat": 4,
 "nbformat_minor": 5
}
