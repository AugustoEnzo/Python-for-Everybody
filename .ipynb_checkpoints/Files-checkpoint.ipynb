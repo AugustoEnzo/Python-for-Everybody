{
 "cells": [
  {
   "cell_type": "code",
   "execution_count": null,
   "id": "b281f10b-6c38-4124-b026-994a7548d516",
   "metadata": {},
   "outputs": [],
   "source": [
    "fhyand = open('mbox.txt', 'r')"
   ]
  },
  {
   "cell_type": "code",
   "execution_count": null,
   "id": "8d293a31-2e1d-432b-842a-a1286f540a72",
   "metadata": {},
   "outputs": [],
   "source": [
    "stuff = 'Hello\\nWord!'\n",
    "print(stuff)"
   ]
  },
  {
   "cell_type": "code",
   "execution_count": null,
   "id": "d4bf7b52-a609-4917-bb05-ab6d5f999d7e",
   "metadata": {},
   "outputs": [],
   "source": [
    "xfile = open('mbox.txt')\n",
    "for cheese in xfile:\n",
    "    print(cheese)"
   ]
  },
  {
   "cell_type": "code",
   "execution_count": null,
   "id": "fe530213-dfd9-4234-a7fc-c493cf8bb235",
   "metadata": {},
   "outputs": [],
   "source": [
    "fhand = open('mbox.txt')\n",
    "count = 0\n",
    "for line in fhand:\n",
    "    count = count + 1\n",
    "    print('Line Count:', count)"
   ]
  },
  {
   "cell_type": "code",
   "execution_count": null,
   "id": "e2752167-dc4a-4346-9d0f-20747cea5757",
   "metadata": {},
   "outputs": [],
   "source": [
    "fhand = open('mbox-short.txt')\n",
    "inp = fhand.read()\n",
    "print(len(inp))\n",
    "print(inp[:201]"
   ]
  },
  {
   "cell_type": "code",
   "execution_count": null,
   "id": "6ae69d52-6326-4384-a85c-abb6a62f7e85",
   "metadata": {},
   "outputs": [],
   "source": [
    "fhand = open('mbox-short.txt')\n",
    "for line in fhand:\n",
    "    line = line.rstrip()\n",
    "    if line.startswith('From:'):\n",
    "        print(line)"
   ]
  },
  {
   "cell_type": "code",
   "execution_count": null,
   "id": "75db8996-468c-45c4-8b75-f7e861af3af4",
   "metadata": {},
   "outputs": [],
   "source": [
    "fhand = open('mbox-short.txt')\n",
    "for line in fhand:\n",
    "    line = line.rstrip()\n",
    "    if not '@uct.ac.za' in line:\n",
    "        continue\n",
    "    print(line)"
   ]
  },
  {
   "cell_type": "code",
   "execution_count": null,
   "id": "dfce4054-581d-461f-bacc-3935ef2f43a3",
   "metadata": {},
   "outputs": [],
   "source": [
    "fname = input('Enter the file name: ')\n",
    "fhand = open(fname)\n",
    "count = 0\n",
    "for line in fhand:\n",
    "    if line.startswith('Subject:'):\n",
    "        count = count+1\n",
    "print('There were', count, 'subject lines in', fname)"
   ]
  },
  {
   "cell_type": "code",
   "execution_count": null,
   "id": "37c0d89a-b3e7-4003-ab2d-4dae246debd2",
   "metadata": {},
   "outputs": [],
   "source": [
    "fname = input('Enter the file name:')\n",
    "try:\n",
    "    fhand = open(fname)\n",
    "except:\n",
    "    print('File cannot be opened:', fname)\n",
    "    quit()\n",
    "\n",
    "count = 0\n",
    "for line in fhand:\n",
    "    if line.startswith('Subject:'):\n",
    "        count += 1\n",
    "print('There were', count, 'subject lines in ', fname)"
   ]
  }
 ],
 "metadata": {
  "kernelspec": {
   "display_name": "Python 3 (ipykernel)",
   "language": "python",
   "name": "python3"
  },
  "language_info": {
   "codemirror_mode": {
    "name": "ipython",
    "version": 3
   },
   "file_extension": ".py",
   "mimetype": "text/x-python",
   "name": "python",
   "nbconvert_exporter": "python",
   "pygments_lexer": "ipython3",
   "version": "3.9.12"
  }
 },
 "nbformat": 4,
 "nbformat_minor": 5
}
