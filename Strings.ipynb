{
 "cells": [
  {
   "cell_type": "code",
   "execution_count": null,
   "id": "c0142cd9-c72b-40dc-88ea-81cf51ee81b2",
   "metadata": {},
   "outputs": [],
   "source": [
    "fruit = 'banana'\n",
    "index = 0\n",
    "while index < len(fruit):\n",
    "    letter = fruit[index]\n",
    "    print(index, letter)\n",
    "    index = index + 1"
   ]
  },
  {
   "cell_type": "code",
   "execution_count": null,
   "id": "69f9286d-e4d3-4ac3-a053-7e216b3fb4de",
   "metadata": {},
   "outputs": [],
   "source": [
    "greet = 'Hello Bob'\n",
    "zap = greet.lower()\n",
    "print(greet)\n",
    "print('Hi there'.lower())"
   ]
  },
  {
   "cell_type": "code",
   "execution_count": null,
   "id": "6fe02c5b-6315-4f00-8464-6e819f5f8b93",
   "metadata": {},
   "outputs": [],
   "source": [
    "stuff = \"Hello word\"\n",
    "type(stuff)\n",
    "dir(stuff)"
   ]
  },
  {
   "cell_type": "code",
   "execution_count": null,
   "id": "0d6c0137-33fa-4eb0-aea3-7a96eace5192",
   "metadata": {},
   "outputs": [],
   "source": [
    "str.capitakize()\n",
    "str.center(width[, fillchar])\n",
    "str.endswith(suffix[, start[, end]])\n",
    "str.find(sub[, start[, end]])\n",
    "str.lstrip([chars])\n",
    "str.replace(old, new[, count])\n",
    "str.lower()\n",
    "str.rstrip([chars])\n",
    "str.strip([chars])\n",
    "str.upper()"
   ]
  },
  {
   "cell_type": "code",
   "execution_count": null,
   "id": "2e8208b6-a438-4f53-b40d-25711cf45290",
   "metadata": {},
   "outputs": [],
   "source": [
    "fruit = 'banana'\n",
    "pos = fruit.find(\"na\")\n",
    "print(pos)\n",
    "aa = fruit.find('2')\n",
    "print(aa)"
   ]
  },
  {
   "cell_type": "code",
   "execution_count": null,
   "id": "d44f1d78-f29e-439c-93c5-20703959c4cd",
   "metadata": {},
   "outputs": [],
   "source": [
    "greet = 'Hello Bob'\n",
    "nnn = greet.upper()\n",
    "print(nnn)"
   ]
  },
  {
   "cell_type": "code",
   "execution_count": null,
   "id": "630ada79-f81c-4850-91ee-e243f02ae1f0",
   "metadata": {},
   "outputs": [],
   "source": [
    "greet = 'Hello Bob'\n",
    "nstr = greet.replace('Bob', 'Jane')\n",
    "print(nstr)"
   ]
  },
  {
   "cell_type": "code",
   "execution_count": null,
   "id": "f219a3a5-18ad-44a0-9f44-6377feb455fa",
   "metadata": {
    "tags": []
   },
   "outputs": [],
   "source": [
    "p = 'Potatoes'\n",
    "p.startswith('O')\n",
    "# False\n",
    "p.startswith('P')\n",
    "# True"
   ]
  },
  {
   "cell_type": "code",
   "execution_count": null,
   "id": "3751ba1c-86c4-47bd-919b-fee0592d4c71",
   "metadata": {},
   "outputs": [],
   "source": [
    "data = 'From stephen.maquard@uct.ac.za Sat Jan 5:09:14:16 2008'\n",
    "atpos = data.find('@')\n",
    "print(atpos)\n",
    "\n",
    "sppos = data.find(' ',atpos)\n",
    "print(sppos)\n",
    "\n",
    "host = data[atpos+1 : sppos]\n",
    "print(host)"
   ]
  }
 ],
 "metadata": {
  "kernelspec": {
   "display_name": "Python 3 (ipykernel)",
   "language": "python",
   "name": "python3"
  },
  "language_info": {
   "codemirror_mode": {
    "name": "ipython",
    "version": 3
   },
   "file_extension": ".py",
   "mimetype": "text/x-python",
   "name": "python",
   "nbconvert_exporter": "python",
   "pygments_lexer": "ipython3",
   "version": "3.9.12"
  }
 },
 "nbformat": 4,
 "nbformat_minor": 5
}
